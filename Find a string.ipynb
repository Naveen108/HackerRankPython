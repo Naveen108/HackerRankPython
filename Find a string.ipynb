{
 "cells": [
  {
   "cell_type": "code",
   "execution_count": null,
   "id": "f234d2c8",
   "metadata": {},
   "outputs": [],
   "source": [
    "def count_substring(string, sub_string):\n",
    "    \n",
    "    lensub = len(sub_string)\n",
    "    count=0\n",
    "    i=0\n",
    "    #string[i:i+lensub]\n",
    "    while i<len(string):      \n",
    "        if(string[i:i+lensub]==sub_string):\n",
    "            count=count+1\n",
    "        i=i+1\n",
    "    return count"
   ]
  }
 ],
 "metadata": {
  "kernelspec": {
   "display_name": "Python 3",
   "language": "python",
   "name": "python3"
  },
  "language_info": {
   "codemirror_mode": {
    "name": "ipython",
    "version": 3
   },
   "file_extension": ".py",
   "mimetype": "text/x-python",
   "name": "python",
   "nbconvert_exporter": "python",
   "pygments_lexer": "ipython3",
   "version": "3.8.8"
  }
 },
 "nbformat": 4,
 "nbformat_minor": 5
}
